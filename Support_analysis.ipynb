{
  "nbformat": 4,
  "nbformat_minor": 0,
  "metadata": {
    "colab": {
      "provenance": [],
      "authorship_tag": "ABX9TyNOxQ7TmDjfMozELo5cxXin",
      "include_colab_link": true
    },
    "kernelspec": {
      "name": "python3",
      "display_name": "Python 3"
    },
    "language_info": {
      "name": "python"
    }
  },
  "cells": [
    {
      "cell_type": "markdown",
      "metadata": {
        "id": "view-in-github",
        "colab_type": "text"
      },
      "source": [
        "<a href=\"https://colab.research.google.com/github/OlhaZahrebelna/team_support_analysis/blob/main/Support_analysis.ipynb\" target=\"_parent\"><img src=\"https://colab.research.google.com/assets/colab-badge.svg\" alt=\"Open In Colab\"/></a>"
      ]
    },
    {
      "cell_type": "markdown",
      "source": [
        "\n",
        "## Мета аналізу\n",
        "\n",
        "Після численних скарг на якість роботи служби підтримки, завдання полягає у виявленні причин затримок в обслуговуванні клієнтів, аналізі роботи команд Retail та Wholesale, та розробці рекомендацій щодо покращення швидкості реагування і ефективності підтримки.\n"
      ],
      "metadata": {
        "id": "aFrgiGI33WU2"
      }
    },
    {
      "cell_type": "markdown",
      "source": [
        "\n",
        "## Огляд даних\n",
        "\n",
        "- Дані охоплюють період ~99 днів.\n",
        "- Команда Retail — 24 агенти, Wholesale — 25 агентів.\n",
        "- Нормативи менеджменту:\n",
        "  - Середній час до відповіді: ≤ 15 хв.\n",
        "  - Критична межа: > 45 хв — негативна оцінка.\n"
      ],
      "metadata": {
        "id": "6SDoibIz3ela"
      }
    },
    {
      "cell_type": "code",
      "source": [
        "import pandas as pd\n",
        "import numpy as np\n",
        "import matplotlib.pyplot as plt\n",
        "import seaborn as sns"
      ],
      "metadata": {
        "id": "zC4VpVFu3uge"
      },
      "execution_count": 37,
      "outputs": []
    },
    {
      "cell_type": "code",
      "source": [
        "df = pd.read_csv('/content/Support_Data.csv')\n",
        "df.head()"
      ],
      "metadata": {
        "colab": {
          "base_uri": "https://localhost:8080/",
          "height": 204
        },
        "id": "YGhgfY4B363l",
        "outputId": "3215c75b-96a0-4c20-dbd8-7a039cb5e65f"
      },
      "execution_count": 38,
      "outputs": [
        {
          "output_type": "execute_result",
          "data": {
            "text/plain": [
              "   moderator  id_request         request_time           start_time  \\\n",
              "0        165      159660   2020-09-24 7:01:16  2020-10-01 16:00:31   \n",
              "1        178      160116  2020-09-24 22:32:15  2020-10-01 13:21:42   \n",
              "2        187      160178   2020-09-25 2:58:13  2020-10-02 11:37:16   \n",
              "3        178      160306   2020-09-25 9:44:12   2020-10-02 7:23:09   \n",
              "4        178      163042  2020-09-30 15:56:08   2020-10-02 7:37:33   \n",
              "\n",
              "           finish_time       team  \n",
              "0  2020-10-01 16:02:02     retail  \n",
              "1  2020-10-01 13:21:43     retail  \n",
              "2  2020-10-02 11:41:56  wholesale  \n",
              "3   2020-10-02 7:25:33     retail  \n",
              "4   2020-10-02 7:47:57     retail  "
            ],
            "text/html": [
              "\n",
              "  <div id=\"df-3a14646b-0091-46bf-b0d6-fac6b278ea3d\" class=\"colab-df-container\">\n",
              "    <div>\n",
              "<style scoped>\n",
              "    .dataframe tbody tr th:only-of-type {\n",
              "        vertical-align: middle;\n",
              "    }\n",
              "\n",
              "    .dataframe tbody tr th {\n",
              "        vertical-align: top;\n",
              "    }\n",
              "\n",
              "    .dataframe thead th {\n",
              "        text-align: right;\n",
              "    }\n",
              "</style>\n",
              "<table border=\"1\" class=\"dataframe\">\n",
              "  <thead>\n",
              "    <tr style=\"text-align: right;\">\n",
              "      <th></th>\n",
              "      <th>moderator</th>\n",
              "      <th>id_request</th>\n",
              "      <th>request_time</th>\n",
              "      <th>start_time</th>\n",
              "      <th>finish_time</th>\n",
              "      <th>team</th>\n",
              "    </tr>\n",
              "  </thead>\n",
              "  <tbody>\n",
              "    <tr>\n",
              "      <th>0</th>\n",
              "      <td>165</td>\n",
              "      <td>159660</td>\n",
              "      <td>2020-09-24 7:01:16</td>\n",
              "      <td>2020-10-01 16:00:31</td>\n",
              "      <td>2020-10-01 16:02:02</td>\n",
              "      <td>retail</td>\n",
              "    </tr>\n",
              "    <tr>\n",
              "      <th>1</th>\n",
              "      <td>178</td>\n",
              "      <td>160116</td>\n",
              "      <td>2020-09-24 22:32:15</td>\n",
              "      <td>2020-10-01 13:21:42</td>\n",
              "      <td>2020-10-01 13:21:43</td>\n",
              "      <td>retail</td>\n",
              "    </tr>\n",
              "    <tr>\n",
              "      <th>2</th>\n",
              "      <td>187</td>\n",
              "      <td>160178</td>\n",
              "      <td>2020-09-25 2:58:13</td>\n",
              "      <td>2020-10-02 11:37:16</td>\n",
              "      <td>2020-10-02 11:41:56</td>\n",
              "      <td>wholesale</td>\n",
              "    </tr>\n",
              "    <tr>\n",
              "      <th>3</th>\n",
              "      <td>178</td>\n",
              "      <td>160306</td>\n",
              "      <td>2020-09-25 9:44:12</td>\n",
              "      <td>2020-10-02 7:23:09</td>\n",
              "      <td>2020-10-02 7:25:33</td>\n",
              "      <td>retail</td>\n",
              "    </tr>\n",
              "    <tr>\n",
              "      <th>4</th>\n",
              "      <td>178</td>\n",
              "      <td>163042</td>\n",
              "      <td>2020-09-30 15:56:08</td>\n",
              "      <td>2020-10-02 7:37:33</td>\n",
              "      <td>2020-10-02 7:47:57</td>\n",
              "      <td>retail</td>\n",
              "    </tr>\n",
              "  </tbody>\n",
              "</table>\n",
              "</div>\n",
              "    <div class=\"colab-df-buttons\">\n",
              "\n",
              "  <div class=\"colab-df-container\">\n",
              "    <button class=\"colab-df-convert\" onclick=\"convertToInteractive('df-3a14646b-0091-46bf-b0d6-fac6b278ea3d')\"\n",
              "            title=\"Convert this dataframe to an interactive table.\"\n",
              "            style=\"display:none;\">\n",
              "\n",
              "  <svg xmlns=\"http://www.w3.org/2000/svg\" height=\"24px\" viewBox=\"0 -960 960 960\">\n",
              "    <path d=\"M120-120v-720h720v720H120Zm60-500h600v-160H180v160Zm220 220h160v-160H400v160Zm0 220h160v-160H400v160ZM180-400h160v-160H180v160Zm440 0h160v-160H620v160ZM180-180h160v-160H180v160Zm440 0h160v-160H620v160Z\"/>\n",
              "  </svg>\n",
              "    </button>\n",
              "\n",
              "  <style>\n",
              "    .colab-df-container {\n",
              "      display:flex;\n",
              "      gap: 12px;\n",
              "    }\n",
              "\n",
              "    .colab-df-convert {\n",
              "      background-color: #E8F0FE;\n",
              "      border: none;\n",
              "      border-radius: 50%;\n",
              "      cursor: pointer;\n",
              "      display: none;\n",
              "      fill: #1967D2;\n",
              "      height: 32px;\n",
              "      padding: 0 0 0 0;\n",
              "      width: 32px;\n",
              "    }\n",
              "\n",
              "    .colab-df-convert:hover {\n",
              "      background-color: #E2EBFA;\n",
              "      box-shadow: 0px 1px 2px rgba(60, 64, 67, 0.3), 0px 1px 3px 1px rgba(60, 64, 67, 0.15);\n",
              "      fill: #174EA6;\n",
              "    }\n",
              "\n",
              "    .colab-df-buttons div {\n",
              "      margin-bottom: 4px;\n",
              "    }\n",
              "\n",
              "    [theme=dark] .colab-df-convert {\n",
              "      background-color: #3B4455;\n",
              "      fill: #D2E3FC;\n",
              "    }\n",
              "\n",
              "    [theme=dark] .colab-df-convert:hover {\n",
              "      background-color: #434B5C;\n",
              "      box-shadow: 0px 1px 3px 1px rgba(0, 0, 0, 0.15);\n",
              "      filter: drop-shadow(0px 1px 2px rgba(0, 0, 0, 0.3));\n",
              "      fill: #FFFFFF;\n",
              "    }\n",
              "  </style>\n",
              "\n",
              "    <script>\n",
              "      const buttonEl =\n",
              "        document.querySelector('#df-3a14646b-0091-46bf-b0d6-fac6b278ea3d button.colab-df-convert');\n",
              "      buttonEl.style.display =\n",
              "        google.colab.kernel.accessAllowed ? 'block' : 'none';\n",
              "\n",
              "      async function convertToInteractive(key) {\n",
              "        const element = document.querySelector('#df-3a14646b-0091-46bf-b0d6-fac6b278ea3d');\n",
              "        const dataTable =\n",
              "          await google.colab.kernel.invokeFunction('convertToInteractive',\n",
              "                                                    [key], {});\n",
              "        if (!dataTable) return;\n",
              "\n",
              "        const docLinkHtml = 'Like what you see? Visit the ' +\n",
              "          '<a target=\"_blank\" href=https://colab.research.google.com/notebooks/data_table.ipynb>data table notebook</a>'\n",
              "          + ' to learn more about interactive tables.';\n",
              "        element.innerHTML = '';\n",
              "        dataTable['output_type'] = 'display_data';\n",
              "        await google.colab.output.renderOutput(dataTable, element);\n",
              "        const docLink = document.createElement('div');\n",
              "        docLink.innerHTML = docLinkHtml;\n",
              "        element.appendChild(docLink);\n",
              "      }\n",
              "    </script>\n",
              "  </div>\n",
              "\n",
              "\n",
              "<div id=\"df-8aa5a2bf-610a-40ff-b347-022126acf5cd\">\n",
              "  <button class=\"colab-df-quickchart\" onclick=\"quickchart('df-8aa5a2bf-610a-40ff-b347-022126acf5cd')\"\n",
              "            title=\"Suggest charts\"\n",
              "            style=\"display:none;\">\n",
              "\n",
              "<svg xmlns=\"http://www.w3.org/2000/svg\" height=\"24px\"viewBox=\"0 0 24 24\"\n",
              "     width=\"24px\">\n",
              "    <g>\n",
              "        <path d=\"M19 3H5c-1.1 0-2 .9-2 2v14c0 1.1.9 2 2 2h14c1.1 0 2-.9 2-2V5c0-1.1-.9-2-2-2zM9 17H7v-7h2v7zm4 0h-2V7h2v10zm4 0h-2v-4h2v4z\"/>\n",
              "    </g>\n",
              "</svg>\n",
              "  </button>\n",
              "\n",
              "<style>\n",
              "  .colab-df-quickchart {\n",
              "      --bg-color: #E8F0FE;\n",
              "      --fill-color: #1967D2;\n",
              "      --hover-bg-color: #E2EBFA;\n",
              "      --hover-fill-color: #174EA6;\n",
              "      --disabled-fill-color: #AAA;\n",
              "      --disabled-bg-color: #DDD;\n",
              "  }\n",
              "\n",
              "  [theme=dark] .colab-df-quickchart {\n",
              "      --bg-color: #3B4455;\n",
              "      --fill-color: #D2E3FC;\n",
              "      --hover-bg-color: #434B5C;\n",
              "      --hover-fill-color: #FFFFFF;\n",
              "      --disabled-bg-color: #3B4455;\n",
              "      --disabled-fill-color: #666;\n",
              "  }\n",
              "\n",
              "  .colab-df-quickchart {\n",
              "    background-color: var(--bg-color);\n",
              "    border: none;\n",
              "    border-radius: 50%;\n",
              "    cursor: pointer;\n",
              "    display: none;\n",
              "    fill: var(--fill-color);\n",
              "    height: 32px;\n",
              "    padding: 0;\n",
              "    width: 32px;\n",
              "  }\n",
              "\n",
              "  .colab-df-quickchart:hover {\n",
              "    background-color: var(--hover-bg-color);\n",
              "    box-shadow: 0 1px 2px rgba(60, 64, 67, 0.3), 0 1px 3px 1px rgba(60, 64, 67, 0.15);\n",
              "    fill: var(--button-hover-fill-color);\n",
              "  }\n",
              "\n",
              "  .colab-df-quickchart-complete:disabled,\n",
              "  .colab-df-quickchart-complete:disabled:hover {\n",
              "    background-color: var(--disabled-bg-color);\n",
              "    fill: var(--disabled-fill-color);\n",
              "    box-shadow: none;\n",
              "  }\n",
              "\n",
              "  .colab-df-spinner {\n",
              "    border: 2px solid var(--fill-color);\n",
              "    border-color: transparent;\n",
              "    border-bottom-color: var(--fill-color);\n",
              "    animation:\n",
              "      spin 1s steps(1) infinite;\n",
              "  }\n",
              "\n",
              "  @keyframes spin {\n",
              "    0% {\n",
              "      border-color: transparent;\n",
              "      border-bottom-color: var(--fill-color);\n",
              "      border-left-color: var(--fill-color);\n",
              "    }\n",
              "    20% {\n",
              "      border-color: transparent;\n",
              "      border-left-color: var(--fill-color);\n",
              "      border-top-color: var(--fill-color);\n",
              "    }\n",
              "    30% {\n",
              "      border-color: transparent;\n",
              "      border-left-color: var(--fill-color);\n",
              "      border-top-color: var(--fill-color);\n",
              "      border-right-color: var(--fill-color);\n",
              "    }\n",
              "    40% {\n",
              "      border-color: transparent;\n",
              "      border-right-color: var(--fill-color);\n",
              "      border-top-color: var(--fill-color);\n",
              "    }\n",
              "    60% {\n",
              "      border-color: transparent;\n",
              "      border-right-color: var(--fill-color);\n",
              "    }\n",
              "    80% {\n",
              "      border-color: transparent;\n",
              "      border-right-color: var(--fill-color);\n",
              "      border-bottom-color: var(--fill-color);\n",
              "    }\n",
              "    90% {\n",
              "      border-color: transparent;\n",
              "      border-bottom-color: var(--fill-color);\n",
              "    }\n",
              "  }\n",
              "</style>\n",
              "\n",
              "  <script>\n",
              "    async function quickchart(key) {\n",
              "      const quickchartButtonEl =\n",
              "        document.querySelector('#' + key + ' button');\n",
              "      quickchartButtonEl.disabled = true;  // To prevent multiple clicks.\n",
              "      quickchartButtonEl.classList.add('colab-df-spinner');\n",
              "      try {\n",
              "        const charts = await google.colab.kernel.invokeFunction(\n",
              "            'suggestCharts', [key], {});\n",
              "      } catch (error) {\n",
              "        console.error('Error during call to suggestCharts:', error);\n",
              "      }\n",
              "      quickchartButtonEl.classList.remove('colab-df-spinner');\n",
              "      quickchartButtonEl.classList.add('colab-df-quickchart-complete');\n",
              "    }\n",
              "    (() => {\n",
              "      let quickchartButtonEl =\n",
              "        document.querySelector('#df-8aa5a2bf-610a-40ff-b347-022126acf5cd button');\n",
              "      quickchartButtonEl.style.display =\n",
              "        google.colab.kernel.accessAllowed ? 'block' : 'none';\n",
              "    })();\n",
              "  </script>\n",
              "</div>\n",
              "\n",
              "    </div>\n",
              "  </div>\n"
            ],
            "application/vnd.google.colaboratory.intrinsic+json": {
              "type": "dataframe",
              "variable_name": "df",
              "summary": "{\n  \"name\": \"df\",\n  \"rows\": 35617,\n  \"fields\": [\n    {\n      \"column\": \"moderator\",\n      \"properties\": {\n        \"dtype\": \"number\",\n        \"std\": 29,\n        \"min\": 102,\n        \"max\": 188,\n        \"num_unique_values\": 49,\n        \"samples\": [\n          110,\n          109,\n          185\n        ],\n        \"semantic_type\": \"\",\n        \"description\": \"\"\n      }\n    },\n    {\n      \"column\": \"id_request\",\n      \"properties\": {\n        \"dtype\": \"number\",\n        \"std\": 15763,\n        \"min\": 159660,\n        \"max\": 222222,\n        \"num_unique_values\": 35617,\n        \"samples\": [\n          200926,\n          169371,\n          187018\n        ],\n        \"semantic_type\": \"\",\n        \"description\": \"\"\n      }\n    },\n    {\n      \"column\": \"request_time\",\n      \"properties\": {\n        \"dtype\": \"object\",\n        \"num_unique_values\": 35129,\n        \"samples\": [\n          \"2020-12-05 11:19:04\",\n          \"2020-11-24 7:42:43\",\n          \"2020-11-29 3:35:51\"\n        ],\n        \"semantic_type\": \"\",\n        \"description\": \"\"\n      }\n    },\n    {\n      \"column\": \"start_time\",\n      \"properties\": {\n        \"dtype\": \"object\",\n        \"num_unique_values\": 35617,\n        \"samples\": [\n          \"2020-12-12 16:21:20\",\n          \"2020-10-14 16:43:48\",\n          \"2020-11-25 10:54:53\"\n        ],\n        \"semantic_type\": \"\",\n        \"description\": \"\"\n      }\n    },\n    {\n      \"column\": \"finish_time\",\n      \"properties\": {\n        \"dtype\": \"object\",\n        \"num_unique_values\": 34982,\n        \"samples\": [\n          \"2020-10-31 8:22:05\",\n          \"2020-12-15 11:08:04\",\n          \"2020-11-29 8:20:03\"\n        ],\n        \"semantic_type\": \"\",\n        \"description\": \"\"\n      }\n    },\n    {\n      \"column\": \"team\",\n      \"properties\": {\n        \"dtype\": \"category\",\n        \"num_unique_values\": 2,\n        \"samples\": [\n          \"wholesale\",\n          \"retail\"\n        ],\n        \"semantic_type\": \"\",\n        \"description\": \"\"\n      }\n    }\n  ]\n}"
            }
          },
          "metadata": {},
          "execution_count": 38
        }
      ]
    },
    {
      "cell_type": "code",
      "source": [
        "df.info()"
      ],
      "metadata": {
        "colab": {
          "base_uri": "https://localhost:8080/"
        },
        "id": "5sjinPt-4Fdu",
        "outputId": "3fe3cbe3-b893-4b26-c40d-cd36fa60f301"
      },
      "execution_count": 39,
      "outputs": [
        {
          "output_type": "stream",
          "name": "stdout",
          "text": [
            "<class 'pandas.core.frame.DataFrame'>\n",
            "RangeIndex: 35617 entries, 0 to 35616\n",
            "Data columns (total 6 columns):\n",
            " #   Column        Non-Null Count  Dtype \n",
            "---  ------        --------------  ----- \n",
            " 0   moderator     35617 non-null  int64 \n",
            " 1   id_request    35617 non-null  int64 \n",
            " 2   request_time  35617 non-null  object\n",
            " 3   start_time    35617 non-null  object\n",
            " 4   finish_time   35617 non-null  object\n",
            " 5   team          35617 non-null  object\n",
            "dtypes: int64(2), object(4)\n",
            "memory usage: 1.6+ MB\n"
          ]
        }
      ]
    },
    {
      "cell_type": "markdown",
      "source": [
        "\n",
        "## Аналіз швидкості реагування\n",
        "\n",
        "- Обчислюємо середній час відповіді та обробки заявки.\n",
        "- Перевіряємо відповідність до стандартів менеджменту.\n"
      ],
      "metadata": {
        "id": "ryqQmYPZ4QuZ"
      }
    },
    {
      "cell_type": "markdown",
      "source": [
        "перетворюємо дані з датою у формат datetime"
      ],
      "metadata": {
        "id": "kEVrLDyF4Xov"
      }
    },
    {
      "cell_type": "code",
      "source": [
        "df['request_time'] = pd.to_datetime(df['request_time'])\n",
        "df['start_time'] = pd.to_datetime(df['start_time'])\n",
        "df['finish_time'] = pd.to_datetime(df['finish_time'])\n",
        "df['moderator'] = df['moderator'].astype(str)\n",
        "df['id_request'] = df['id_request'].astype(str)"
      ],
      "metadata": {
        "id": "RKL9UeoZ4fHK"
      },
      "execution_count": 40,
      "outputs": []
    },
    {
      "cell_type": "markdown",
      "source": [
        "розраховуємо час на прийняття заявки та як швидко вона була опрацьована."
      ],
      "metadata": {
        "id": "ecvWmOFr4j8T"
      }
    },
    {
      "cell_type": "code",
      "source": [
        "df['start_delay'] = (df['start_time'] - df['request_time']).dt.total_seconds() / 60\n",
        "df['finish_delay'] = (df['finish_time'] - df['start_time']).dt.total_seconds() / 60"
      ],
      "metadata": {
        "id": "AphWgV724lvF"
      },
      "execution_count": 41,
      "outputs": []
    },
    {
      "cell_type": "code",
      "source": [
        "within_15 = df[df['start_delay'] <= 15]\n",
        "over_45 = df[df['start_delay'] > 45]\n",
        "\n",
        "print(f\"Відсоток заявок, прийнятих в роботу до 15 хв: {len(within_15) / len(df):.2%}\")\n",
        "print(f\"Відсоток заявок, що були прийняті в роботу з очікуванням понад 45 хвилин: {len(over_45) / len(df):.2%}\")"
      ],
      "metadata": {
        "colab": {
          "base_uri": "https://localhost:8080/"
        },
        "id": "vJ_U0vHG9k4A",
        "outputId": "d68c87cd-213d-4cd5-9451-16b34b893cae"
      },
      "execution_count": 42,
      "outputs": [
        {
          "output_type": "stream",
          "name": "stdout",
          "text": [
            "Відсоток заявок, прийнятих в роботу до 15 хв: 8.06%\n",
            "Відсоток заявок, що були прийняті в роботу з очікуванням понад 45 хвилин: 78.34%\n"
          ]
        }
      ]
    },
    {
      "cell_type": "markdown",
      "source": [
        "Це означає, що лише кожен 12-й запит отримує відповідь вчасно(15хвилин). Система не справляється з поточним навантаженням або має проблеми з розподілом черги.\n",
        "\n",
        "Більше 3/4 усіх клієнтів змушені чекати довше, ніж прийнятний максимум. Це суттєво шкодить клієнтському досвіду та репутації служби підтримки."
      ],
      "metadata": {
        "id": "GJE7QwLrLlJV"
      }
    },
    {
      "cell_type": "markdown",
      "source": [
        "Щоб видалити екстремально великі значення, обмежила дані,\n",
        "залишила тільки запити, де start_delay ≤ 600 хв (10 годин)"
      ],
      "metadata": {
        "id": "_-jmOTsE93GI"
      }
    },
    {
      "cell_type": "code",
      "source": [
        "df_filtered = df[df['start_delay'] <= 600]"
      ],
      "metadata": {
        "id": "AWNfgW6W-wNV"
      },
      "execution_count": 43,
      "outputs": []
    },
    {
      "cell_type": "code",
      "source": [
        "plt.figure(figsize=(10,6))\n",
        "sns.histplot(df_filtered['start_delay'], bins=20, kde=True)\n",
        "plt.axvline(15, color='green', linestyle='--', label='Норма : 15 хв')\n",
        "plt.axvline(45, color='red', linestyle='--', label='Допустимий максимум: 45 хв')\n",
        "plt.title(\"Розподіл часу очікування\")\n",
        "plt.xlabel(\"Час очікування, хв\")\n",
        "plt.ylabel(\"Кількість запитів\")\n",
        "plt.legend();"
      ],
      "metadata": {
        "colab": {
          "base_uri": "https://localhost:8080/",
          "height": 564
        },
        "id": "aoghqpbb-Z7j",
        "outputId": "057dd3d3-be37-46ff-e806-9d8395fe15c3"
      },
      "execution_count": 44,
      "outputs": [
        {
          "output_type": "display_data",
          "data": {
            "text/plain": [
              "<Figure size 1000x600 with 1 Axes>"
            ],
            "image/png": "[encoded data removed]"
          },
          "metadata": {}
        }
      ]
    },
    {
      "cell_type": "code",
      "source": [
        "total_requests = len(df)\n",
        "within_15 = (df['start_delay'] <= 15).sum() / total_requests * 100\n",
        "within_45 = (df['start_delay'] <= 45).sum() / total_requests * 100\n",
        "over_45 = (df['start_delay'] > 45).sum() / total_requests * 100"
      ],
      "metadata": {
        "id": "pR7p3Jp8TY23"
      },
      "execution_count": 45,
      "outputs": []
    },
    {
      "cell_type": "code",
      "source": [
        "print(f\"Відсоток заявок, прийнятих в роботу до 15 хв: {within_15:.2f}%\")\n",
        "print(f\"Відсоток заявок, що були прийняті в роботу з очікуванням понад 45 хвилин: {over_45:.2f}%\")\n",
        "print(f\"Відсоток заявок, що були прийняті в роботу з очікуванням менше 45 хвилин: {within_45:.2f}%\")"
      ],
      "metadata": {
        "colab": {
          "base_uri": "https://localhost:8080/"
        },
        "id": "0RzQC7_XTtAx",
        "outputId": "957ccbb4-aa45-470d-a9c8-a3c44f4f7b28"
      },
      "execution_count": 46,
      "outputs": [
        {
          "output_type": "stream",
          "name": "stdout",
          "text": [
            "Відсоток заявок, прийнятих в роботу до 15 хв: 8.06%\n",
            "Відсоток заявок, що були прийняті в роботу з очікуванням понад 45 хвилин: 78.34%\n",
            "Відсоток заявок, що були прийняті в роботу з очікуванням менше 45 хвилин: 21.66%\n"
          ]
        }
      ]
    },
    {
      "cell_type": "markdown",
      "source": [
        "### Висновок з графіка розподілу часу очікування (до 600 хв):\n",
        "\n",
        "Пік заявок припадає на перші 10–30 хв, але більшість все ще перевищують ліміт у 15 хв (зелена лінія).\n",
        "\n",
        "78.34% заявок також перетинає межу 45 хв (червона лінія), що вважається вже неприйнятним рівнем.\n",
        "\n",
        "Розподіл асиметричний: багато заявок накопичуються в першій годині роботи відділу, бо працівники првцюють з 7:00 до 22:00(це описано нижче у розділі \"Часові піки навантаження\"), а далі йде “довгий хвіст” — частина заявок чекає навіть до 10 годин."
      ],
      "metadata": {
        "id": "hbPX2Pk5nolP"
      }
    },
    {
      "cell_type": "markdown",
      "source": [
        "**Рекомендації:**\n",
        "\n",
        "Зменшити “хвіст” затримок до 45+ хвилин:\n",
        "\n",
        "Більшість проблемної зони — саме між 45–600 хв.\n",
        "\n",
        "Потрібно або краще балансувати чергу між агентами, або збільшити кількість змін у пікові періоди.\n",
        "\n",
        "Зосередитися на перших 30 хв:\n",
        "* Якщо агент бере звернення в цей інтервал — воно майже завжди обробляється вчасно.\n",
        "* Варто пріоритезувати найновіші запити або автоматизувати сортування по часу надходження.\n",
        "\n",
        "Оптимальний час є 15–45 хв:\n",
        "\n",
        "Саме тут можна «врятувати» багато звернень, які ще не стали критично запізнілими, але вже вийшли за норму."
      ],
      "metadata": {
        "id": "3sdYwjPAoZk5"
      }
    },
    {
      "cell_type": "markdown",
      "source": [
        "\n",
        "## Порівняння команд\n",
        "\n",
        "- Порівнюємо Retail vs Wholesale.\n",
        "- Аналізуємо ефективність агентів.\n"
      ],
      "metadata": {
        "id": "DZGX-hUU4wlZ"
      }
    },
    {
      "cell_type": "code",
      "source": [
        "df.groupby('team')['start_delay'].mean()"
      ],
      "metadata": {
        "colab": {
          "base_uri": "https://localhost:8080/",
          "height": 176
        },
        "id": "aZjmyXuO4zFS",
        "outputId": "4b116f82-3baf-4172-be5d-f9e1d7134bbc"
      },
      "execution_count": 47,
      "outputs": [
        {
          "output_type": "execute_result",
          "data": {
            "text/plain": [
              "team\n",
              "retail        607.786440\n",
              "wholesale    3677.494648\n",
              "Name: start_delay, dtype: float64"
            ],
            "text/html": [
              "<div>\n",
              "<style scoped>\n",
              "    .dataframe tbody tr th:only-of-type {\n",
              "        vertical-align: middle;\n",
              "    }\n",
              "\n",
              "    .dataframe tbody tr th {\n",
              "        vertical-align: top;\n",
              "    }\n",
              "\n",
              "    .dataframe thead th {\n",
              "        text-align: right;\n",
              "    }\n",
              "</style>\n",
              "<table border=\"1\" class=\"dataframe\">\n",
              "  <thead>\n",
              "    <tr style=\"text-align: right;\">\n",
              "      <th></th>\n",
              "      <th>start_delay</th>\n",
              "    </tr>\n",
              "    <tr>\n",
              "      <th>team</th>\n",
              "      <th></th>\n",
              "    </tr>\n",
              "  </thead>\n",
              "  <tbody>\n",
              "    <tr>\n",
              "      <th>retail</th>\n",
              "      <td>607.786440</td>\n",
              "    </tr>\n",
              "    <tr>\n",
              "      <th>wholesale</th>\n",
              "      <td>3677.494648</td>\n",
              "    </tr>\n",
              "  </tbody>\n",
              "</table>\n",
              "</div><br><label><b>dtype:</b> float64</label>"
            ]
          },
          "metadata": {},
          "execution_count": 47
        }
      ]
    },
    {
      "cell_type": "markdown",
      "source": [
        "Час до початку обробки (start_delay)\n",
        "\n",
        "**Retail:** ~608 хвилин (≈10 годин)\n",
        "**Wholesale:** ~3677 хвилин (≈61 година)\n",
        "\n",
        "\n",
        "**Пояснення:**\n",
        "Цей показник ілюструє, скільки часу проходить з моменту надходження запиту до того, як агент починає його обробку.\n",
        "Результати свідчать про критично довгі затримки, особливо у гуртової команди. 61 година в середньому — це в 244 рази довше за очікування менеджменту (15 хв).\n",
        "\n",
        "**Висновок:**\n",
        "Головна проблема — як довго заявка чекає у черзі перед тим, як хтось візьме його в роботу."
      ],
      "metadata": {
        "id": "rMrhoWT3UkL2"
      }
    },
    {
      "cell_type": "code",
      "source": [
        "df.groupby('team')['finish_delay'].mean()"
      ],
      "metadata": {
        "colab": {
          "base_uri": "https://localhost:8080/",
          "height": 176
        },
        "id": "v0A-C6HD47ia",
        "outputId": "fc1686f3-4243-4547-efe0-225abef67d13"
      },
      "execution_count": 48,
      "outputs": [
        {
          "output_type": "execute_result",
          "data": {
            "text/plain": [
              "team\n",
              "retail       1.977244\n",
              "wholesale    2.415659\n",
              "Name: finish_delay, dtype: float64"
            ],
            "text/html": [
              "<div>\n",
              "<style scoped>\n",
              "    .dataframe tbody tr th:only-of-type {\n",
              "        vertical-align: middle;\n",
              "    }\n",
              "\n",
              "    .dataframe tbody tr th {\n",
              "        vertical-align: top;\n",
              "    }\n",
              "\n",
              "    .dataframe thead th {\n",
              "        text-align: right;\n",
              "    }\n",
              "</style>\n",
              "<table border=\"1\" class=\"dataframe\">\n",
              "  <thead>\n",
              "    <tr style=\"text-align: right;\">\n",
              "      <th></th>\n",
              "      <th>finish_delay</th>\n",
              "    </tr>\n",
              "    <tr>\n",
              "      <th>team</th>\n",
              "      <th></th>\n",
              "    </tr>\n",
              "  </thead>\n",
              "  <tbody>\n",
              "    <tr>\n",
              "      <th>retail</th>\n",
              "      <td>1.977244</td>\n",
              "    </tr>\n",
              "    <tr>\n",
              "      <th>wholesale</th>\n",
              "      <td>2.415659</td>\n",
              "    </tr>\n",
              "  </tbody>\n",
              "</table>\n",
              "</div><br><label><b>dtype:</b> float64</label>"
            ]
          },
          "metadata": {},
          "execution_count": 48
        }
      ]
    },
    {
      "cell_type": "markdown",
      "source": [
        "Час обробки запиту (finish_delay)\n",
        "\n",
        "**Retail:** ~1.98 хв\n",
        "**Wholesale:** ~2.42 хв\n",
        "\n",
        "**Пояснення:**\n",
        "Це час від початку до завершення обробки. Обидва значення менші за допустимі 5 хвилин, тож сам процес обробки відбувається оперативно.\n",
        "\n",
        "**Висновок:**\n",
        "Агенти працюють швидко після того, як взяли запит. Швидкість обробки хороша, проблема — в доступності агентів.\n"
      ],
      "metadata": {
        "id": "0zOCGIcbUzV6"
      }
    },
    {
      "cell_type": "code",
      "source": [
        "df.groupby('team')['id_request'].count()"
      ],
      "metadata": {
        "colab": {
          "base_uri": "https://localhost:8080/",
          "height": 176
        },
        "id": "BwqLIGhs5FMc",
        "outputId": "4bd5e3a5-c30f-434c-cdb9-7e45b1cf6eff"
      },
      "execution_count": 49,
      "outputs": [
        {
          "output_type": "execute_result",
          "data": {
            "text/plain": [
              "team\n",
              "retail       14025\n",
              "wholesale    21592\n",
              "Name: id_request, dtype: int64"
            ],
            "text/html": [
              "<div>\n",
              "<style scoped>\n",
              "    .dataframe tbody tr th:only-of-type {\n",
              "        vertical-align: middle;\n",
              "    }\n",
              "\n",
              "    .dataframe tbody tr th {\n",
              "        vertical-align: top;\n",
              "    }\n",
              "\n",
              "    .dataframe thead th {\n",
              "        text-align: right;\n",
              "    }\n",
              "</style>\n",
              "<table border=\"1\" class=\"dataframe\">\n",
              "  <thead>\n",
              "    <tr style=\"text-align: right;\">\n",
              "      <th></th>\n",
              "      <th>id_request</th>\n",
              "    </tr>\n",
              "    <tr>\n",
              "      <th>team</th>\n",
              "      <th></th>\n",
              "    </tr>\n",
              "  </thead>\n",
              "  <tbody>\n",
              "    <tr>\n",
              "      <th>retail</th>\n",
              "      <td>14025</td>\n",
              "    </tr>\n",
              "    <tr>\n",
              "      <th>wholesale</th>\n",
              "      <td>21592</td>\n",
              "    </tr>\n",
              "  </tbody>\n",
              "</table>\n",
              "</div><br><label><b>dtype:</b> int64</label>"
            ]
          },
          "metadata": {},
          "execution_count": 49
        }
      ]
    },
    {
      "cell_type": "markdown",
      "source": [
        "Кількість запитів (id_request)\n",
        "\n",
        "**Retail:** 14 025\n",
        "**Wholesale:** 21 592\n",
        "\n",
        "**Пояснення:**\n",
        "Wholesale обробляє на 50% більше запитів. Це свідчить про нерівномірне навантаження між командами.\n",
        "\n",
        "**Висновок:**\n",
        "Wholesale перевантажена, тому запити обробляються із суттєвими затримками. Це також пояснює нижчу ефективність старту обробки."
      ],
      "metadata": {
        "id": "jXaQphecVBgC"
      }
    },
    {
      "cell_type": "markdown",
      "source": [
        "### Дінаміка за весь період по командам."
      ],
      "metadata": {
        "id": "FfFGnxeW_MNy"
      }
    },
    {
      "cell_type": "code",
      "source": [
        "df['request_time'] = pd.to_datetime(df['request_time'])\n",
        "\n",
        "df['week_number'] = df['request_time'].dt.isocalendar().week\n",
        "\n",
        "weekly_counts = df.groupby(['week_number', 'team'])['id_request'].count().unstack(fill_value=0)\n",
        "\n",
        "plt.figure(figsize=(12, 6))\n",
        "plt.plot(weekly_counts.index, weekly_counts['retail'], label='Retail', marker='o')\n",
        "plt.plot(weekly_counts.index, weekly_counts['wholesale'], label='Wholesale', marker='o')\n",
        "\n",
        "plt.xlabel('Номер тижня')\n",
        "plt.ylabel('Кількість заявок')\n",
        "plt.title('Кількість заявок на тиждень за командою')\n",
        "plt.legend()\n",
        "plt.grid(True)\n",
        "plt.xticks(weekly_counts.index)\n",
        "plt.tight_layout()"
      ],
      "metadata": {
        "colab": {
          "base_uri": "https://localhost:8080/",
          "height": 520
        },
        "id": "9Y96abj7_SKx",
        "outputId": "c9a27b70-a7a4-448c-afd5-cade2d4fd4de"
      },
      "execution_count": 50,
      "outputs": [
        {
          "output_type": "display_data",
          "data": {
            "text/plain": [
              "<Figure size 1200x600 with 1 Axes>"
            ],
            "image/png": "[encoded data removed]"
          },
          "metadata": {}
        }
      ]
    },
    {
      "cell_type": "markdown",
      "source": [
        "**Висновок:**\n",
        "\n",
        "Починаючи з 47-го тижня, видно різке зростання звернень, особливо в команді **Wholesale** (помаранчева лінія).\n",
        "У 48-му тижні кількість запитів у Wholesale команді досягає піку — понад 4000 на тиждень, що в кілька разів більше за попередні тижні.\n",
        "**Retail** (синя лінія) також демонструє помірне зростання, але воно стабільніше і не таке стрімке.\n",
        "Wholesale має сезонне навантаження, яке різко збільшується в передсвятковий період (вірогідно, Black Friday, кінець листопада – грудень. Це треба дослідити, щоб стверджувати)."
      ],
      "metadata": {
        "id": "hvkeVOatAMUw"
      }
    },
    {
      "cell_type": "markdown",
      "source": [
        "**Рекомендації:**\n",
        "\n",
        "1. Заздалегідь готуватись до пікового навантаження (тижні 47–51):\n",
        "* У разі виявлення, що цей тренд спостерігався і в попередні\n",
        "роки:\n",
        "\n",
        "2. Розробити сезонний план масштабування: залучати додаткових тимчасових агентів, формувати розширені зміни.\n",
        "Починати підготовку мінімум за 2 тижні до очікуваного піку — якщо це історичне зростання попиту.\n",
        "\n",
        "3. Автоматичне виявлення аномалій у навантаженні:\n",
        "\n",
        "* У разі різкого зростання кількості звернень система має сповіщати менеджмент для оперативного реагування.\n",
        "Перерозподіл агентів між командами у пікові періоди:\n",
        "\n",
        "* Якщо команда Retail має менше навантаження, частину агентів можна тимчасово залучити до обробки запитів Wholesale.\n",
        "\n",
        "* Проте важливо враховувати, що роздрібні та гуртові продажі мають різну специфіку.\n",
        "\n",
        "* Агенти з Retail можуть не володіти достатньою компетенцією для вирішення всіх типів звернень.\n",
        "\n",
        "Тому варто:\n",
        "  * або проводити перехресне навчання;\n",
        "  * або обмежено довчити агентів на певну категорію заявок, які можна безпечно передати їм для обробки."
      ],
      "metadata": {
        "id": "QRZuQFZiqswX"
      }
    },
    {
      "cell_type": "markdown",
      "source": [
        "\n",
        "## Часові піки навантаження\n",
        "\n",
        "- Визначаємо найнавантаженіші години та дні тижня.\n",
        "- Аналізуємо динаміку запитів у часі.\n"
      ],
      "metadata": {
        "id": "cevDxEUx5TJ-"
      }
    },
    {
      "cell_type": "code",
      "source": [
        "df['request_time'].max()-df['request_time'].min()"
      ],
      "metadata": {
        "colab": {
          "base_uri": "https://localhost:8080/"
        },
        "id": "-RwYA2u25YJq",
        "outputId": "f0d2711e-a5f5-4479-db6e-48949d666292"
      },
      "execution_count": 51,
      "outputs": [
        {
          "output_type": "execute_result",
          "data": {
            "text/plain": [
              "Timedelta('98 days 15:10:01')"
            ]
          },
          "metadata": {},
          "execution_count": 51
        }
      ]
    },
    {
      "cell_type": "markdown",
      "source": [
        "в нас дані майже за 99 днів"
      ],
      "metadata": {
        "id": "Lm8y7aEl5b8Y"
      }
    },
    {
      "cell_type": "code",
      "source": [
        "df['hour_start_time'] = df['start_time'].dt.hour\n",
        "df['day_of_week_start_time'] = df['start_time'].dt.dayofweek"
      ],
      "metadata": {
        "id": "HXWpJcExZ_Xb"
      },
      "execution_count": 52,
      "outputs": []
    },
    {
      "cell_type": "code",
      "source": [
        "df['hour_start_time'].value_counts().sort_index()"
      ],
      "metadata": {
        "colab": {
          "base_uri": "https://localhost:8080/",
          "height": 703
        },
        "id": "27WanNwyakFF",
        "outputId": "9f14c240-b9f4-46af-f9c4-2977c39e5e24"
      },
      "execution_count": 22,
      "outputs": [
        {
          "output_type": "execute_result",
          "data": {
            "text/plain": [
              "hour_start_time\n",
              "0        7\n",
              "6        3\n",
              "7     3489\n",
              "8     2967\n",
              "9     3443\n",
              "10    2938\n",
              "11    3403\n",
              "12    2639\n",
              "13    2929\n",
              "14    2145\n",
              "15    1867\n",
              "16    1789\n",
              "17    1686\n",
              "18    1505\n",
              "19    1477\n",
              "20    1427\n",
              "21     994\n",
              "22     904\n",
              "23       5\n",
              "Name: count, dtype: int64"
            ],
            "text/html": [
              "<div>\n",
              "<style scoped>\n",
              "    .dataframe tbody tr th:only-of-type {\n",
              "        vertical-align: middle;\n",
              "    }\n",
              "\n",
              "    .dataframe tbody tr th {\n",
              "        vertical-align: top;\n",
              "    }\n",
              "\n",
              "    .dataframe thead th {\n",
              "        text-align: right;\n",
              "    }\n",
              "</style>\n",
              "<table border=\"1\" class=\"dataframe\">\n",
              "  <thead>\n",
              "    <tr style=\"text-align: right;\">\n",
              "      <th></th>\n",
              "      <th>count</th>\n",
              "    </tr>\n",
              "    <tr>\n",
              "      <th>hour_start_time</th>\n",
              "      <th></th>\n",
              "    </tr>\n",
              "  </thead>\n",
              "  <tbody>\n",
              "    <tr>\n",
              "      <th>0</th>\n",
              "      <td>7</td>\n",
              "    </tr>\n",
              "    <tr>\n",
              "      <th>6</th>\n",
              "      <td>3</td>\n",
              "    </tr>\n",
              "    <tr>\n",
              "      <th>7</th>\n",
              "      <td>3489</td>\n",
              "    </tr>\n",
              "    <tr>\n",
              "      <th>8</th>\n",
              "      <td>2967</td>\n",
              "    </tr>\n",
              "    <tr>\n",
              "      <th>9</th>\n",
              "      <td>3443</td>\n",
              "    </tr>\n",
              "    <tr>\n",
              "      <th>10</th>\n",
              "      <td>2938</td>\n",
              "    </tr>\n",
              "    <tr>\n",
              "      <th>11</th>\n",
              "      <td>3403</td>\n",
              "    </tr>\n",
              "    <tr>\n",
              "      <th>12</th>\n",
              "      <td>2639</td>\n",
              "    </tr>\n",
              "    <tr>\n",
              "      <th>13</th>\n",
              "      <td>2929</td>\n",
              "    </tr>\n",
              "    <tr>\n",
              "      <th>14</th>\n",
              "      <td>2145</td>\n",
              "    </tr>\n",
              "    <tr>\n",
              "      <th>15</th>\n",
              "      <td>1867</td>\n",
              "    </tr>\n",
              "    <tr>\n",
              "      <th>16</th>\n",
              "      <td>1789</td>\n",
              "    </tr>\n",
              "    <tr>\n",
              "      <th>17</th>\n",
              "      <td>1686</td>\n",
              "    </tr>\n",
              "    <tr>\n",
              "      <th>18</th>\n",
              "      <td>1505</td>\n",
              "    </tr>\n",
              "    <tr>\n",
              "      <th>19</th>\n",
              "      <td>1477</td>\n",
              "    </tr>\n",
              "    <tr>\n",
              "      <th>20</th>\n",
              "      <td>1427</td>\n",
              "    </tr>\n",
              "    <tr>\n",
              "      <th>21</th>\n",
              "      <td>994</td>\n",
              "    </tr>\n",
              "    <tr>\n",
              "      <th>22</th>\n",
              "      <td>904</td>\n",
              "    </tr>\n",
              "    <tr>\n",
              "      <th>23</th>\n",
              "      <td>5</td>\n",
              "    </tr>\n",
              "  </tbody>\n",
              "</table>\n",
              "</div><br><label><b>dtype:</b> int64</label>"
            ]
          },
          "metadata": {},
          "execution_count": 22
        }
      ]
    },
    {
      "cell_type": "markdown",
      "source": [
        "Служба підтримки працює з 7:00 до 22:00"
      ],
      "metadata": {
        "id": "slPge19ubH3a"
      }
    },
    {
      "cell_type": "code",
      "source": [
        "df['day_of_week_start_time'].value_counts().sort_index()"
      ],
      "metadata": {
        "colab": {
          "base_uri": "https://localhost:8080/",
          "height": 331
        },
        "id": "43UvbgTsbkMq",
        "outputId": "ab3debd2-9b14-42a5-f9e9-de4f03591d77"
      },
      "execution_count": 53,
      "outputs": [
        {
          "output_type": "execute_result",
          "data": {
            "text/plain": [
              "day_of_week_start_time\n",
              "0    4053\n",
              "1    4791\n",
              "2    5090\n",
              "3    6122\n",
              "4    5450\n",
              "5    4823\n",
              "6    5288\n",
              "Name: count, dtype: int64"
            ],
            "text/html": [
              "<div>\n",
              "<style scoped>\n",
              "    .dataframe tbody tr th:only-of-type {\n",
              "        vertical-align: middle;\n",
              "    }\n",
              "\n",
              "    .dataframe tbody tr th {\n",
              "        vertical-align: top;\n",
              "    }\n",
              "\n",
              "    .dataframe thead th {\n",
              "        text-align: right;\n",
              "    }\n",
              "</style>\n",
              "<table border=\"1\" class=\"dataframe\">\n",
              "  <thead>\n",
              "    <tr style=\"text-align: right;\">\n",
              "      <th></th>\n",
              "      <th>count</th>\n",
              "    </tr>\n",
              "    <tr>\n",
              "      <th>day_of_week_start_time</th>\n",
              "      <th></th>\n",
              "    </tr>\n",
              "  </thead>\n",
              "  <tbody>\n",
              "    <tr>\n",
              "      <th>0</th>\n",
              "      <td>4053</td>\n",
              "    </tr>\n",
              "    <tr>\n",
              "      <th>1</th>\n",
              "      <td>4791</td>\n",
              "    </tr>\n",
              "    <tr>\n",
              "      <th>2</th>\n",
              "      <td>5090</td>\n",
              "    </tr>\n",
              "    <tr>\n",
              "      <th>3</th>\n",
              "      <td>6122</td>\n",
              "    </tr>\n",
              "    <tr>\n",
              "      <th>4</th>\n",
              "      <td>5450</td>\n",
              "    </tr>\n",
              "    <tr>\n",
              "      <th>5</th>\n",
              "      <td>4823</td>\n",
              "    </tr>\n",
              "    <tr>\n",
              "      <th>6</th>\n",
              "      <td>5288</td>\n",
              "    </tr>\n",
              "  </tbody>\n",
              "</table>\n",
              "</div><br><label><b>dtype:</b> int64</label>"
            ]
          },
          "metadata": {},
          "execution_count": 53
        }
      ]
    },
    {
      "cell_type": "markdown",
      "source": [
        "Служба підтримки працює без вихідних."
      ],
      "metadata": {
        "id": "TncXzcDfbwRh"
      }
    },
    {
      "cell_type": "code",
      "source": [
        "print(\"Кількість усіх запитів:\", len(df))\n",
        "print(\"Середній час очікування (хв):\", round(df['start_delay'].mean(), 2))\n",
        "print(\"Медіанний час очікування (хв):\", round(df['start_delay'].median(), 2))"
      ],
      "metadata": {
        "colab": {
          "base_uri": "https://localhost:8080/"
        },
        "id": "3A7FF5BM5fRc",
        "outputId": "e964f83f-b295-40ff-e364-7e295278fbea"
      },
      "execution_count": 54,
      "outputs": [
        {
          "output_type": "stream",
          "name": "stdout",
          "text": [
            "Кількість усіх запитів: 35617\n",
            "Середній час очікування (хв): 2468.73\n",
            "Медіанний час очікування (хв): 497.62\n"
          ]
        }
      ]
    },
    {
      "cell_type": "code",
      "source": [
        "df['hour'] = df['request_time'].dt.hour\n",
        "df['day_of_week'] = df['request_time'].dt.dayofweek"
      ],
      "metadata": {
        "id": "c7jum0fy8ywH"
      },
      "execution_count": 55,
      "outputs": []
    },
    {
      "cell_type": "code",
      "source": [
        "plt.bar(df['hour'].value_counts().index, df['hour'].value_counts())\n",
        "plt.xlabel('Час')\n",
        "plt.ylabel('Кількість заявок')\n",
        "plt.title('Кількість заявок на годину');"
      ],
      "metadata": {
        "colab": {
          "base_uri": "https://localhost:8080/",
          "height": 472
        },
        "id": "JSJmudWL88bx",
        "outputId": "00a423d9-9be7-4a43-f360-3a45edf33b78"
      },
      "execution_count": 56,
      "outputs": [
        {
          "output_type": "display_data",
          "data": {
            "text/plain": [
              "<Figure size 640x480 with 1 Axes>"
            ],
            "image/png": "[encoded data removed]"
          },
          "metadata": {}
        }
      ]
    },
    {
      "cell_type": "markdown",
      "source": [
        "Найбільше звернень надходить:\n",
        "\n",
        "**між 6:00 та 13:00**, з піком о 8:00 ранку (понад 3500 звернень).\n",
        "\n",
        "**Після 17:00** — помітне зниження активності.\n",
        "\n",
        "Вночі (**0:00–5:00**) кількість звернень невелика, але вони все одно надходять — по 500–1500 на годину.\n",
        "Це свідчить, що навіть у \"непопулярні\" години клієнти звертаються по допомогу\n",
        "\n",
        "**Рекомендація:**\n",
        "\n",
        "Розширити графік роботи агентів на ранній ранок і ніч.\n",
        "\n",
        "Додати нічне покриття (0:00–6:00), навіть мінімальне — 1–2 агенти можуть обробити запити, що накопичуються в цей час.\n",
        "Змістити початок зміни на 6:00, щоб встигати обробляти ранковий пік (8:00).\n",
        "Це дозволить:\n",
        "\n",
        "Скоротити черги з ночі до ранку.\n",
        "Значно зменшити середній час очікування.\n",
        "Покращити задоволеність клієнтів у критичні години."
      ],
      "metadata": {
        "id": "-28OMx25WvP5"
      }
    },
    {
      "cell_type": "code",
      "source": [
        "days_labels = ['Пн', 'Вт', 'Ср', 'Чт', 'Пт', 'Сб', 'Нд']\n",
        "\n",
        "# Побудова графіка з оновленими підписами осі X\n",
        "plt.bar(df['day_of_week'].value_counts().sort_index().index,\n",
        "        df['day_of_week'].value_counts().sort_index())\n",
        "\n",
        "plt.xlabel('День тижня')\n",
        "plt.ylabel('Кількість заявок')\n",
        "plt.title('Кількість заявок за день тижня')\n",
        "plt.xticks(ticks=range(7), labels=days_labels)  # <- підписи днів\n",
        "plt.tight_layout()"
      ],
      "metadata": {
        "colab": {
          "base_uri": "https://localhost:8080/",
          "height": 487
        },
        "id": "gK-xNZjXriZz",
        "outputId": "edf223fb-9a94-425c-bbc2-b18f88f221a3"
      },
      "execution_count": 57,
      "outputs": [
        {
          "output_type": "display_data",
          "data": {
            "text/plain": [
              "<Figure size 640x480 with 1 Axes>"
            ],
            "image/png": "[encoded data removed]"
          },
          "metadata": {}
        }
      ]
    },
    {
      "cell_type": "markdown",
      "source": [
        "**Висновок:**\n",
        "\n",
        "Найбільше заявок надходить у п’ятницю та суботу та неділю — понад 5800 запитів щодня.\n",
        "Найменше заявок — у вівторок та понеділок.\n",
        "Але навіть у \"найспокійніші\" дні обсяг перевищує 3500–4500 заявок, тобто стабільно високий.\n",
        "Це свідчить, що навантаження значне протягом усього тижня, з піками наприкінці робочого тижня і вихідними.\n",
        "\n",
        "**Рекомендація:**\n",
        "\n",
        "Підсилити команду в дні пікового навантаження:\n",
        "* З середи до неділі — критичні дні з найбільшим обсягом заявок.\n",
        "В ці дні варто планувати більше агентів у зміну, особливо у ранкові години, коли вже починається наплив.\n",
        "* Оптимізувати ресурси у “спокійніші” дні (понеділок–вівторок):\n",
        "Тут можливе часткове скорочення змін або ротація, щоб збалансувати навантаження по тижню без втрат у якості.\n",
        "\n",
        "Аналіз змін у графіку:\n",
        "Якщо служба працює 7 днів на тиждень, доцільно запровадити ротаційний графік з компенсацією навантаження — наприклад, чергування суботніх і недільних змін між працівниками.\n"
      ],
      "metadata": {
        "id": "7SfY1EeYYG1F"
      }
    },
    {
      "cell_type": "markdown",
      "source": [
        "\n",
        "## Ефективність агентів\n",
        "\n",
        "Найкращі та найповільніші агенти за середнім часом до відповіді:\n"
      ],
      "metadata": {
        "id": "EHBjEadi8bsx"
      }
    },
    {
      "cell_type": "code",
      "source": [
        "agent_perf = df.groupby('moderator')['start_delay'].agg(['count', 'mean'])\n",
        "agent_perf_sorted = agent_perf.sort_values('mean')\n",
        "agent_perf_sorted.head(10), agent_perf_sorted.tail(10)"
      ],
      "metadata": {
        "colab": {
          "base_uri": "https://localhost:8080/"
        },
        "id": "74mY5IxJ8bUZ",
        "outputId": "30f3d0e1-c584-49eb-a862-58a60e01dcc0"
      },
      "execution_count": 58,
      "outputs": [
        {
          "output_type": "execute_result",
          "data": {
            "text/plain": [
              "(           count        mean\n",
              " moderator                   \n",
              " 129            1    0.033333\n",
              " 138            1    0.133333\n",
              " 134            8    1.106250\n",
              " 171            1    2.850000\n",
              " 110            1    7.133333\n",
              " 114           60   73.075000\n",
              " 150           16  116.510417\n",
              " 167          536  268.814055\n",
              " 161          181  270.862523\n",
              " 178          630  387.208757,\n",
              "            count         mean\n",
              " moderator                    \n",
              " 125         1146  3620.503883\n",
              " 102         1321  3714.671625\n",
              " 123         1452  3762.907828\n",
              " 170         1686  3883.557661\n",
              " 188         3746  4058.972153\n",
              " 187         1193  4372.228444\n",
              " 112         1717  4382.390992\n",
              " 180         1349  4579.584470\n",
              " 181         1625  4692.149733\n",
              " 126            2  5996.450000)"
            ]
          },
          "metadata": {},
          "execution_count": 58
        }
      ]
    },
    {
      "cell_type": "markdown",
      "source": [
        "### Ефективність агентів за середнім часом до початку обробки (start_delay)\n",
        "\n",
        "**ТОП-агенти (найшвидші):**\n",
        "\n",
        "* Агенти з ID 129, 138, 134, 171, 110 мають середній час відповіді < 10 хвилин.\n",
        "\n",
        "* Проте вони обробили лише 1–8 заявок, тож їхній результат не є статистично надійним.\n",
        "\n",
        "* Першим ефективним і активним агентом є модератор 167, який опрацював 536 заявок із середнім часом до відповіді 268 хв (~4.5 години).\n",
        "* Агент 161 (270 хв) і 178 (387 хв) також мають кращі за середні результати та достатній обсяг оброблених заявок.\n",
        "\n",
        "**Найповільніші агенти:**\n",
        "\n",
        "* Агенти 125, 102, 123, 170, 188, 112, 180, 165 мають дуже великі середні\n",
        "затримки — від ~3600 до ~4600 хвилин (тобто 2.5–3.2 доби!).\n",
        "* При цьому вони обробили 1300–3700+ запитів, тож їхній низький результат має суттєвий вплив на загальну швидкість підтримки.\n",
        "* Найповільніший — агент 165 (4629 хвилин середньо, понад 1600 запитів).\n",
        "\n",
        "**Висновок:**\n",
        "\n",
        "* Існує велика різниця у продуктивності між агентами.\n",
        "* Частина агентів постійно відповідає із затримками в декілька діб, що вкрай негативно впливає.\n",
        "* Найефективніші агенти обробляють менше заявок, а найбільше навантаження лежить на повільних.\n",
        "\n",
        "**Рекомендації:**\n",
        "\n",
        "Перерозподілити навантаження:\n",
        "1. Передати частину запитів від найповільніших агентів (125, 165, 112, 180) до\n",
        "тих, хто демонструє кращі результати.\n",
        "2. Провести індивідуальний аудит агентів із великими затримками:\n",
        "З'ясувати причини (перевантаження, відсутність інструментів, слабка мотивація тощо).\n",
        "3. Навчання або автоматизація:\n",
        "Запровадити навчальні заходи для відстаючих агентів або розглянути можливість автоматичного призначення заявки на швидших операторів."
      ],
      "metadata": {
        "id": "mfGCPxdzdfvv"
      }
    },
    {
      "cell_type": "code",
      "source": [
        "df.groupby('team')['start_delay'].describe().T"
      ],
      "metadata": {
        "colab": {
          "base_uri": "https://localhost:8080/",
          "height": 297
        },
        "id": "jqwt_L3f5mtt",
        "outputId": "ba846169-503f-4591-b719-91db5372c92c"
      },
      "execution_count": 59,
      "outputs": [
        {
          "output_type": "execute_result",
          "data": {
            "text/plain": [
              "team         retail      wholesale\n",
              "count  14025.000000   21592.000000\n",
              "mean     607.786440    3677.494648\n",
              "std     5000.929269    5018.511796\n",
              "min        0.016667       0.033333\n",
              "25%       22.283333     899.325000\n",
              "50%       48.383333    3749.766667\n",
              "75%       91.500000    5183.825000\n",
              "max    98641.933333  117132.116667"
            ],
            "text/html": [
              "\n",
              "  <div id=\"df-5cb9d851-69ca-478f-9270-99f5aa5da61f\" class=\"colab-df-container\">\n",
              "    <div>\n",
              "<style scoped>\n",
              "    .dataframe tbody tr th:only-of-type {\n",
              "        vertical-align: middle;\n",
              "    }\n",
              "\n",
              "    .dataframe tbody tr th {\n",
              "        vertical-align: top;\n",
              "    }\n",
              "\n",
              "    .dataframe thead th {\n",
              "        text-align: right;\n",
              "    }\n",
              "</style>\n",
              "<table border=\"1\" class=\"dataframe\">\n",
              "  <thead>\n",
              "    <tr style=\"text-align: right;\">\n",
              "      <th>team</th>\n",
              "      <th>retail</th>\n",
              "      <th>wholesale</th>\n",
              "    </tr>\n",
              "  </thead>\n",
              "  <tbody>\n",
              "    <tr>\n",
              "      <th>count</th>\n",
              "      <td>14025.000000</td>\n",
              "      <td>21592.000000</td>\n",
              "    </tr>\n",
              "    <tr>\n",
              "      <th>mean</th>\n",
              "      <td>607.786440</td>\n",
              "      <td>3677.494648</td>\n",
              "    </tr>\n",
              "    <tr>\n",
              "      <th>std</th>\n",
              "      <td>5000.929269</td>\n",
              "      <td>5018.511796</td>\n",
              "    </tr>\n",
              "    <tr>\n",
              "      <th>min</th>\n",
              "      <td>0.016667</td>\n",
              "      <td>0.033333</td>\n",
              "    </tr>\n",
              "    <tr>\n",
              "      <th>25%</th>\n",
              "      <td>22.283333</td>\n",
              "      <td>899.325000</td>\n",
              "    </tr>\n",
              "    <tr>\n",
              "      <th>50%</th>\n",
              "      <td>48.383333</td>\n",
              "      <td>3749.766667</td>\n",
              "    </tr>\n",
              "    <tr>\n",
              "      <th>75%</th>\n",
              "      <td>91.500000</td>\n",
              "      <td>5183.825000</td>\n",
              "    </tr>\n",
              "    <tr>\n",
              "      <th>max</th>\n",
              "      <td>98641.933333</td>\n",
              "      <td>117132.116667</td>\n",
              "    </tr>\n",
              "  </tbody>\n",
              "</table>\n",
              "</div>\n",
              "    <div class=\"colab-df-buttons\">\n",
              "\n",
              "  <div class=\"colab-df-container\">\n",
              "    <button class=\"colab-df-convert\" onclick=\"convertToInteractive('df-5cb9d851-69ca-478f-9270-99f5aa5da61f')\"\n",
              "            title=\"Convert this dataframe to an interactive table.\"\n",
              "            style=\"display:none;\">\n",
              "\n",
              "  <svg xmlns=\"http://www.w3.org/2000/svg\" height=\"24px\" viewBox=\"0 -960 960 960\">\n",
              "    <path d=\"M120-120v-720h720v720H120Zm60-500h600v-160H180v160Zm220 220h160v-160H400v160Zm0 220h160v-160H400v160ZM180-400h160v-160H180v160Zm440 0h160v-160H620v160ZM180-180h160v-160H180v160Zm440 0h160v-160H620v160Z\"/>\n",
              "  </svg>\n",
              "    </button>\n",
              "\n",
              "  <style>\n",
              "    .colab-df-container {\n",
              "      display:flex;\n",
              "      gap: 12px;\n",
              "    }\n",
              "\n",
              "    .colab-df-convert {\n",
              "      background-color: #E8F0FE;\n",
              "      border: none;\n",
              "      border-radius: 50%;\n",
              "      cursor: pointer;\n",
              "      display: none;\n",
              "      fill: #1967D2;\n",
              "      height: 32px;\n",
              "      padding: 0 0 0 0;\n",
              "      width: 32px;\n",
              "    }\n",
              "\n",
              "    .colab-df-convert:hover {\n",
              "      background-color: #E2EBFA;\n",
              "      box-shadow: 0px 1px 2px rgba(60, 64, 67, 0.3), 0px 1px 3px 1px rgba(60, 64, 67, 0.15);\n",
              "      fill: #174EA6;\n",
              "    }\n",
              "\n",
              "    .colab-df-buttons div {\n",
              "      margin-bottom: 4px;\n",
              "    }\n",
              "\n",
              "    [theme=dark] .colab-df-convert {\n",
              "      background-color: #3B4455;\n",
              "      fill: #D2E3FC;\n",
              "    }\n",
              "\n",
              "    [theme=dark] .colab-df-convert:hover {\n",
              "      background-color: #434B5C;\n",
              "      box-shadow: 0px 1px 3px 1px rgba(0, 0, 0, 0.15);\n",
              "      filter: drop-shadow(0px 1px 2px rgba(0, 0, 0, 0.3));\n",
              "      fill: #FFFFFF;\n",
              "    }\n",
              "  </style>\n",
              "\n",
              "    <script>\n",
              "      const buttonEl =\n",
              "        document.querySelector('#df-5cb9d851-69ca-478f-9270-99f5aa5da61f button.colab-df-convert');\n",
              "      buttonEl.style.display =\n",
              "        google.colab.kernel.accessAllowed ? 'block' : 'none';\n",
              "\n",
              "      async function convertToInteractive(key) {\n",
              "        const element = document.querySelector('#df-5cb9d851-69ca-478f-9270-99f5aa5da61f');\n",
              "        const dataTable =\n",
              "          await google.colab.kernel.invokeFunction('convertToInteractive',\n",
              "                                                    [key], {});\n",
              "        if (!dataTable) return;\n",
              "\n",
              "        const docLinkHtml = 'Like what you see? Visit the ' +\n",
              "          '<a target=\"_blank\" href=https://colab.research.google.com/notebooks/data_table.ipynb>data table notebook</a>'\n",
              "          + ' to learn more about interactive tables.';\n",
              "        element.innerHTML = '';\n",
              "        dataTable['output_type'] = 'display_data';\n",
              "        await google.colab.output.renderOutput(dataTable, element);\n",
              "        const docLink = document.createElement('div');\n",
              "        docLink.innerHTML = docLinkHtml;\n",
              "        element.appendChild(docLink);\n",
              "      }\n",
              "    </script>\n",
              "  </div>\n",
              "\n",
              "\n",
              "<div id=\"df-e6c17523-be9e-4f28-ab20-392312f13cf9\">\n",
              "  <button class=\"colab-df-quickchart\" onclick=\"quickchart('df-e6c17523-be9e-4f28-ab20-392312f13cf9')\"\n",
              "            title=\"Suggest charts\"\n",
              "            style=\"display:none;\">\n",
              "\n",
              "<svg xmlns=\"http://www.w3.org/2000/svg\" height=\"24px\"viewBox=\"0 0 24 24\"\n",
              "     width=\"24px\">\n",
              "    <g>\n",
              "        <path d=\"M19 3H5c-1.1 0-2 .9-2 2v14c0 1.1.9 2 2 2h14c1.1 0 2-.9 2-2V5c0-1.1-.9-2-2-2zM9 17H7v-7h2v7zm4 0h-2V7h2v10zm4 0h-2v-4h2v4z\"/>\n",
              "    </g>\n",
              "</svg>\n",
              "  </button>\n",
              "\n",
              "<style>\n",
              "  .colab-df-quickchart {\n",
              "      --bg-color: #E8F0FE;\n",
              "      --fill-color: #1967D2;\n",
              "      --hover-bg-color: #E2EBFA;\n",
              "      --hover-fill-color: #174EA6;\n",
              "      --disabled-fill-color: #AAA;\n",
              "      --disabled-bg-color: #DDD;\n",
              "  }\n",
              "\n",
              "  [theme=dark] .colab-df-quickchart {\n",
              "      --bg-color: #3B4455;\n",
              "      --fill-color: #D2E3FC;\n",
              "      --hover-bg-color: #434B5C;\n",
              "      --hover-fill-color: #FFFFFF;\n",
              "      --disabled-bg-color: #3B4455;\n",
              "      --disabled-fill-color: #666;\n",
              "  }\n",
              "\n",
              "  .colab-df-quickchart {\n",
              "    background-color: var(--bg-color);\n",
              "    border: none;\n",
              "    border-radius: 50%;\n",
              "    cursor: pointer;\n",
              "    display: none;\n",
              "    fill: var(--fill-color);\n",
              "    height: 32px;\n",
              "    padding: 0;\n",
              "    width: 32px;\n",
              "  }\n",
              "\n",
              "  .colab-df-quickchart:hover {\n",
              "    background-color: var(--hover-bg-color);\n",
              "    box-shadow: 0 1px 2px rgba(60, 64, 67, 0.3), 0 1px 3px 1px rgba(60, 64, 67, 0.15);\n",
              "    fill: var(--button-hover-fill-color);\n",
              "  }\n",
              "\n",
              "  .colab-df-quickchart-complete:disabled,\n",
              "  .colab-df-quickchart-complete:disabled:hover {\n",
              "    background-color: var(--disabled-bg-color);\n",
              "    fill: var(--disabled-fill-color);\n",
              "    box-shadow: none;\n",
              "  }\n",
              "\n",
              "  .colab-df-spinner {\n",
              "    border: 2px solid var(--fill-color);\n",
              "    border-color: transparent;\n",
              "    border-bottom-color: var(--fill-color);\n",
              "    animation:\n",
              "      spin 1s steps(1) infinite;\n",
              "  }\n",
              "\n",
              "  @keyframes spin {\n",
              "    0% {\n",
              "      border-color: transparent;\n",
              "      border-bottom-color: var(--fill-color);\n",
              "      border-left-color: var(--fill-color);\n",
              "    }\n",
              "    20% {\n",
              "      border-color: transparent;\n",
              "      border-left-color: var(--fill-color);\n",
              "      border-top-color: var(--fill-color);\n",
              "    }\n",
              "    30% {\n",
              "      border-color: transparent;\n",
              "      border-left-color: var(--fill-color);\n",
              "      border-top-color: var(--fill-color);\n",
              "      border-right-color: var(--fill-color);\n",
              "    }\n",
              "    40% {\n",
              "      border-color: transparent;\n",
              "      border-right-color: var(--fill-color);\n",
              "      border-top-color: var(--fill-color);\n",
              "    }\n",
              "    60% {\n",
              "      border-color: transparent;\n",
              "      border-right-color: var(--fill-color);\n",
              "    }\n",
              "    80% {\n",
              "      border-color: transparent;\n",
              "      border-right-color: var(--fill-color);\n",
              "      border-bottom-color: var(--fill-color);\n",
              "    }\n",
              "    90% {\n",
              "      border-color: transparent;\n",
              "      border-bottom-color: var(--fill-color);\n",
              "    }\n",
              "  }\n",
              "</style>\n",
              "\n",
              "  <script>\n",
              "    async function quickchart(key) {\n",
              "      const quickchartButtonEl =\n",
              "        document.querySelector('#' + key + ' button');\n",
              "      quickchartButtonEl.disabled = true;  // To prevent multiple clicks.\n",
              "      quickchartButtonEl.classList.add('colab-df-spinner');\n",
              "      try {\n",
              "        const charts = await google.colab.kernel.invokeFunction(\n",
              "            'suggestCharts', [key], {});\n",
              "      } catch (error) {\n",
              "        console.error('Error during call to suggestCharts:', error);\n",
              "      }\n",
              "      quickchartButtonEl.classList.remove('colab-df-spinner');\n",
              "      quickchartButtonEl.classList.add('colab-df-quickchart-complete');\n",
              "    }\n",
              "    (() => {\n",
              "      let quickchartButtonEl =\n",
              "        document.querySelector('#df-e6c17523-be9e-4f28-ab20-392312f13cf9 button');\n",
              "      quickchartButtonEl.style.display =\n",
              "        google.colab.kernel.accessAllowed ? 'block' : 'none';\n",
              "    })();\n",
              "  </script>\n",
              "</div>\n",
              "\n",
              "    </div>\n",
              "  </div>\n"
            ],
            "application/vnd.google.colaboratory.intrinsic+json": {
              "type": "dataframe",
              "summary": "{\n  \"name\": \"df\",\n  \"rows\": 8,\n  \"fields\": [\n    {\n      \"column\": \"retail\",\n      \"properties\": {\n        \"dtype\": \"number\",\n        \"std\": 34223.80442903816,\n        \"min\": 0.016666666666666666,\n        \"max\": 98641.93333333333,\n        \"num_unique_values\": 8,\n        \"samples\": [\n          607.7864396910279,\n          48.38333333333333,\n          14025.0\n        ],\n        \"semantic_type\": \"\",\n        \"description\": \"\"\n      }\n    },\n    {\n      \"column\": \"wholesale\",\n      \"properties\": {\n        \"dtype\": \"number\",\n        \"std\": 39956.28342890286,\n        \"min\": 0.03333333333333333,\n        \"max\": 117132.11666666667,\n        \"num_unique_values\": 8,\n        \"samples\": [\n          3677.4946477090284,\n          3749.7666666666664,\n          21592.0\n        ],\n        \"semantic_type\": \"\",\n        \"description\": \"\"\n      }\n    }\n  ]\n}"
            }
          },
          "metadata": {},
          "execution_count": 59
        }
      ]
    },
    {
      "cell_type": "markdown",
      "source": [
        "Загальний період (всі тижні):\n",
        "\n",
        "**Retail:**\n",
        "\n",
        "Середній час: 607 хв (~10 год)\n",
        "\n",
        "Медіана: 48.8 хв\n",
        "\n",
        "**Wholesale:**\n",
        "\n",
        "Середній час: 3677 хв (~61 год)\n",
        "\n",
        "Медіана: 3749 хв (~2.6 днів)"
      ],
      "metadata": {
        "id": "BDtXhchWp_mW"
      }
    },
    {
      "cell_type": "code",
      "source": [
        "df_weeks_39_47 = df[(df['week_number'] >= 39) & (df['week_number'] <= 47)]"
      ],
      "metadata": {
        "id": "oJ7nU1I8Cyjk"
      },
      "execution_count": 60,
      "outputs": []
    },
    {
      "cell_type": "code",
      "source": [
        "df_weeks_39_47.groupby('team')['start_delay'].describe().T"
      ],
      "metadata": {
        "colab": {
          "base_uri": "https://localhost:8080/",
          "height": 297
        },
        "id": "IZIXMYy2C26i",
        "outputId": "910ec673-c80e-4553-8460-0b9d99dc20ff"
      },
      "execution_count": 61,
      "outputs": [
        {
          "output_type": "execute_result",
          "data": {
            "text/plain": [
              "team         retail      wholesale\n",
              "count   5846.000000    3582.000000\n",
              "mean    1274.144520    2186.609683\n",
              "std     7605.744011   11289.674053\n",
              "min        0.016667       0.033333\n",
              "25%       16.725000      37.112500\n",
              "50%       41.841667     106.391667\n",
              "75%       89.087500     298.604167\n",
              "max    98641.933333  117132.116667"
            ],
            "text/html": [
              "\n",
              "  <div id=\"df-4d4b1f63-a716-44b0-b9f8-db8d97589597\" class=\"colab-df-container\">\n",
              "    <div>\n",
              "<style scoped>\n",
              "    .dataframe tbody tr th:only-of-type {\n",
              "        vertical-align: middle;\n",
              "    }\n",
              "\n",
              "    .dataframe tbody tr th {\n",
              "        vertical-align: top;\n",
              "    }\n",
              "\n",
              "    .dataframe thead th {\n",
              "        text-align: right;\n",
              "    }\n",
              "</style>\n",
              "<table border=\"1\" class=\"dataframe\">\n",
              "  <thead>\n",
              "    <tr style=\"text-align: right;\">\n",
              "      <th>team</th>\n",
              "      <th>retail</th>\n",
              "      <th>wholesale</th>\n",
              "    </tr>\n",
              "  </thead>\n",
              "  <tbody>\n",
              "    <tr>\n",
              "      <th>count</th>\n",
              "      <td>5846.000000</td>\n",
              "      <td>3582.000000</td>\n",
              "    </tr>\n",
              "    <tr>\n",
              "      <th>mean</th>\n",
              "      <td>1274.144520</td>\n",
              "      <td>2186.609683</td>\n",
              "    </tr>\n",
              "    <tr>\n",
              "      <th>std</th>\n",
              "      <td>7605.744011</td>\n",
              "      <td>11289.674053</td>\n",
              "    </tr>\n",
              "    <tr>\n",
              "      <th>min</th>\n",
              "      <td>0.016667</td>\n",
              "      <td>0.033333</td>\n",
              "    </tr>\n",
              "    <tr>\n",
              "      <th>25%</th>\n",
              "      <td>16.725000</td>\n",
              "      <td>37.112500</td>\n",
              "    </tr>\n",
              "    <tr>\n",
              "      <th>50%</th>\n",
              "      <td>41.841667</td>\n",
              "      <td>106.391667</td>\n",
              "    </tr>\n",
              "    <tr>\n",
              "      <th>75%</th>\n",
              "      <td>89.087500</td>\n",
              "      <td>298.604167</td>\n",
              "    </tr>\n",
              "    <tr>\n",
              "      <th>max</th>\n",
              "      <td>98641.933333</td>\n",
              "      <td>117132.116667</td>\n",
              "    </tr>\n",
              "  </tbody>\n",
              "</table>\n",
              "</div>\n",
              "    <div class=\"colab-df-buttons\">\n",
              "\n",
              "  <div class=\"colab-df-container\">\n",
              "    <button class=\"colab-df-convert\" onclick=\"convertToInteractive('df-4d4b1f63-a716-44b0-b9f8-db8d97589597')\"\n",
              "            title=\"Convert this dataframe to an interactive table.\"\n",
              "            style=\"display:none;\">\n",
              "\n",
              "  <svg xmlns=\"http://www.w3.org/2000/svg\" height=\"24px\" viewBox=\"0 -960 960 960\">\n",
              "    <path d=\"M120-120v-720h720v720H120Zm60-500h600v-160H180v160Zm220 220h160v-160H400v160Zm0 220h160v-160H400v160ZM180-400h160v-160H180v160Zm440 0h160v-160H620v160ZM180-180h160v-160H180v160Zm440 0h160v-160H620v160Z\"/>\n",
              "  </svg>\n",
              "    </button>\n",
              "\n",
              "  <style>\n",
              "    .colab-df-container {\n",
              "      display:flex;\n",
              "      gap: 12px;\n",
              "    }\n",
              "\n",
              "    .colab-df-convert {\n",
              "      background-color: #E8F0FE;\n",
              "      border: none;\n",
              "      border-radius: 50%;\n",
              "      cursor: pointer;\n",
              "      display: none;\n",
              "      fill: #1967D2;\n",
              "      height: 32px;\n",
              "      padding: 0 0 0 0;\n",
              "      width: 32px;\n",
              "    }\n",
              "\n",
              "    .colab-df-convert:hover {\n",
              "      background-color: #E2EBFA;\n",
              "      box-shadow: 0px 1px 2px rgba(60, 64, 67, 0.3), 0px 1px 3px 1px rgba(60, 64, 67, 0.15);\n",
              "      fill: #174EA6;\n",
              "    }\n",
              "\n",
              "    .colab-df-buttons div {\n",
              "      margin-bottom: 4px;\n",
              "    }\n",
              "\n",
              "    [theme=dark] .colab-df-convert {\n",
              "      background-color: #3B4455;\n",
              "      fill: #D2E3FC;\n",
              "    }\n",
              "\n",
              "    [theme=dark] .colab-df-convert:hover {\n",
              "      background-color: #434B5C;\n",
              "      box-shadow: 0px 1px 3px 1px rgba(0, 0, 0, 0.15);\n",
              "      filter: drop-shadow(0px 1px 2px rgba(0, 0, 0, 0.3));\n",
              "      fill: #FFFFFF;\n",
              "    }\n",
              "  </style>\n",
              "\n",
              "    <script>\n",
              "      const buttonEl =\n",
              "        document.querySelector('#df-4d4b1f63-a716-44b0-b9f8-db8d97589597 button.colab-df-convert');\n",
              "      buttonEl.style.display =\n",
              "        google.colab.kernel.accessAllowed ? 'block' : 'none';\n",
              "\n",
              "      async function convertToInteractive(key) {\n",
              "        const element = document.querySelector('#df-4d4b1f63-a716-44b0-b9f8-db8d97589597');\n",
              "        const dataTable =\n",
              "          await google.colab.kernel.invokeFunction('convertToInteractive',\n",
              "                                                    [key], {});\n",
              "        if (!dataTable) return;\n",
              "\n",
              "        const docLinkHtml = 'Like what you see? Visit the ' +\n",
              "          '<a target=\"_blank\" href=https://colab.research.google.com/notebooks/data_table.ipynb>data table notebook</a>'\n",
              "          + ' to learn more about interactive tables.';\n",
              "        element.innerHTML = '';\n",
              "        dataTable['output_type'] = 'display_data';\n",
              "        await google.colab.output.renderOutput(dataTable, element);\n",
              "        const docLink = document.createElement('div');\n",
              "        docLink.innerHTML = docLinkHtml;\n",
              "        element.appendChild(docLink);\n",
              "      }\n",
              "    </script>\n",
              "  </div>\n",
              "\n",
              "\n",
              "<div id=\"df-d77eb18f-872d-4902-a49c-0399fa03558e\">\n",
              "  <button class=\"colab-df-quickchart\" onclick=\"quickchart('df-d77eb18f-872d-4902-a49c-0399fa03558e')\"\n",
              "            title=\"Suggest charts\"\n",
              "            style=\"display:none;\">\n",
              "\n",
              "<svg xmlns=\"http://www.w3.org/2000/svg\" height=\"24px\"viewBox=\"0 0 24 24\"\n",
              "     width=\"24px\">\n",
              "    <g>\n",
              "        <path d=\"M19 3H5c-1.1 0-2 .9-2 2v14c0 1.1.9 2 2 2h14c1.1 0 2-.9 2-2V5c0-1.1-.9-2-2-2zM9 17H7v-7h2v7zm4 0h-2V7h2v10zm4 0h-2v-4h2v4z\"/>\n",
              "    </g>\n",
              "</svg>\n",
              "  </button>\n",
              "\n",
              "<style>\n",
              "  .colab-df-quickchart {\n",
              "      --bg-color: #E8F0FE;\n",
              "      --fill-color: #1967D2;\n",
              "      --hover-bg-color: #E2EBFA;\n",
              "      --hover-fill-color: #174EA6;\n",
              "      --disabled-fill-color: #AAA;\n",
              "      --disabled-bg-color: #DDD;\n",
              "  }\n",
              "\n",
              "  [theme=dark] .colab-df-quickchart {\n",
              "      --bg-color: #3B4455;\n",
              "      --fill-color: #D2E3FC;\n",
              "      --hover-bg-color: #434B5C;\n",
              "      --hover-fill-color: #FFFFFF;\n",
              "      --disabled-bg-color: #3B4455;\n",
              "      --disabled-fill-color: #666;\n",
              "  }\n",
              "\n",
              "  .colab-df-quickchart {\n",
              "    background-color: var(--bg-color);\n",
              "    border: none;\n",
              "    border-radius: 50%;\n",
              "    cursor: pointer;\n",
              "    display: none;\n",
              "    fill: var(--fill-color);\n",
              "    height: 32px;\n",
              "    padding: 0;\n",
              "    width: 32px;\n",
              "  }\n",
              "\n",
              "  .colab-df-quickchart:hover {\n",
              "    background-color: var(--hover-bg-color);\n",
              "    box-shadow: 0 1px 2px rgba(60, 64, 67, 0.3), 0 1px 3px 1px rgba(60, 64, 67, 0.15);\n",
              "    fill: var(--button-hover-fill-color);\n",
              "  }\n",
              "\n",
              "  .colab-df-quickchart-complete:disabled,\n",
              "  .colab-df-quickchart-complete:disabled:hover {\n",
              "    background-color: var(--disabled-bg-color);\n",
              "    fill: var(--disabled-fill-color);\n",
              "    box-shadow: none;\n",
              "  }\n",
              "\n",
              "  .colab-df-spinner {\n",
              "    border: 2px solid var(--fill-color);\n",
              "    border-color: transparent;\n",
              "    border-bottom-color: var(--fill-color);\n",
              "    animation:\n",
              "      spin 1s steps(1) infinite;\n",
              "  }\n",
              "\n",
              "  @keyframes spin {\n",
              "    0% {\n",
              "      border-color: transparent;\n",
              "      border-bottom-color: var(--fill-color);\n",
              "      border-left-color: var(--fill-color);\n",
              "    }\n",
              "    20% {\n",
              "      border-color: transparent;\n",
              "      border-left-color: var(--fill-color);\n",
              "      border-top-color: var(--fill-color);\n",
              "    }\n",
              "    30% {\n",
              "      border-color: transparent;\n",
              "      border-left-color: var(--fill-color);\n",
              "      border-top-color: var(--fill-color);\n",
              "      border-right-color: var(--fill-color);\n",
              "    }\n",
              "    40% {\n",
              "      border-color: transparent;\n",
              "      border-right-color: var(--fill-color);\n",
              "      border-top-color: var(--fill-color);\n",
              "    }\n",
              "    60% {\n",
              "      border-color: transparent;\n",
              "      border-right-color: var(--fill-color);\n",
              "    }\n",
              "    80% {\n",
              "      border-color: transparent;\n",
              "      border-right-color: var(--fill-color);\n",
              "      border-bottom-color: var(--fill-color);\n",
              "    }\n",
              "    90% {\n",
              "      border-color: transparent;\n",
              "      border-bottom-color: var(--fill-color);\n",
              "    }\n",
              "  }\n",
              "</style>\n",
              "\n",
              "  <script>\n",
              "    async function quickchart(key) {\n",
              "      const quickchartButtonEl =\n",
              "        document.querySelector('#' + key + ' button');\n",
              "      quickchartButtonEl.disabled = true;  // To prevent multiple clicks.\n",
              "      quickchartButtonEl.classList.add('colab-df-spinner');\n",
              "      try {\n",
              "        const charts = await google.colab.kernel.invokeFunction(\n",
              "            'suggestCharts', [key], {});\n",
              "      } catch (error) {\n",
              "        console.error('Error during call to suggestCharts:', error);\n",
              "      }\n",
              "      quickchartButtonEl.classList.remove('colab-df-spinner');\n",
              "      quickchartButtonEl.classList.add('colab-df-quickchart-complete');\n",
              "    }\n",
              "    (() => {\n",
              "      let quickchartButtonEl =\n",
              "        document.querySelector('#df-d77eb18f-872d-4902-a49c-0399fa03558e button');\n",
              "      quickchartButtonEl.style.display =\n",
              "        google.colab.kernel.accessAllowed ? 'block' : 'none';\n",
              "    })();\n",
              "  </script>\n",
              "</div>\n",
              "\n",
              "    </div>\n",
              "  </div>\n"
            ],
            "application/vnd.google.colaboratory.intrinsic+json": {
              "type": "dataframe",
              "summary": "{\n  \"name\": \"df_weeks_39_47\",\n  \"rows\": 8,\n  \"fields\": [\n    {\n      \"column\": \"retail\",\n      \"properties\": {\n        \"dtype\": \"number\",\n        \"std\": 34253.605849139734,\n        \"min\": 0.016666666666666666,\n        \"max\": 98641.93333333333,\n        \"num_unique_values\": 8,\n        \"samples\": [\n          1274.1445204698368,\n          41.84166666666667,\n          5846.0\n        ],\n        \"semantic_type\": \"\",\n        \"description\": \"\"\n      }\n    },\n    {\n      \"column\": \"wholesale\",\n      \"properties\": {\n        \"dtype\": \"number\",\n        \"std\": 40706.902133102834,\n        \"min\": 0.03333333333333333,\n        \"max\": 117132.11666666667,\n        \"num_unique_values\": 8,\n        \"samples\": [\n          2186.609682672622,\n          106.39166666666667,\n          3582.0\n        ],\n        \"semantic_type\": \"\",\n        \"description\": \"\"\n      }\n    }\n  ]\n}"
            }
          },
          "metadata": {},
          "execution_count": 61
        }
      ]
    },
    {
      "cell_type": "markdown",
      "source": [
        "Тижні 39–47 (до пікового навантаження):\n",
        "\n",
        "**Retail:**\n",
        "\n",
        "Середній час: 1274 хв (~21 год) — більш вдвічі порівняно з усім періодом аналізу!\n",
        "\n",
        "Медіана: 41.8 хв\n",
        "\n",
        "**Wholesale:**\n",
        "\n",
        "Середній час: 2186 хв (~36 год)\n",
        "\n",
        "Медіана: 106 хв (~1.7 год)"
      ],
      "metadata": {
        "id": "-G6zqUEistq2"
      }
    },
    {
      "cell_type": "markdown",
      "source": [
        "### рейтинг агентів по кількості прийнятих успішно заявок."
      ],
      "metadata": {
        "id": "lE-g_q3xIKd2"
      }
    },
    {
      "cell_type": "code",
      "source": [
        "agent_total = df.groupby('moderator')['id_request'].count()\n",
        "agent_success = df[df['start_delay'] <= 15].groupby('moderator')['id_request'].count()\n",
        "agent_stats = pd.DataFrame({\n",
        "    \"total_requests\": agent_total,\n",
        "    \"successful_requests\": agent_success\n",
        "}).fillna(0)\n",
        "\n",
        "top_success = agent_stats[\"successful_requests\"].sort_values(ascending=False).head(30)\n"
      ],
      "metadata": {
        "id": "UyRdUQaTJtf3"
      },
      "execution_count": 62,
      "outputs": []
    },
    {
      "cell_type": "code",
      "source": [
        "plt.figure(figsize=(14, 6))\n",
        "top_success.plot(kind=\"bar\", color=\"mediumseagreen\")\n",
        "plt.title(\"Топ-30 агентів за кількістю швидких відповідей (≤15 хв)\")\n",
        "plt.ylabel(\"Кількість прийнятих заявок у межах 15 хвилин\")\n",
        "plt.xlabel(\"ID агента\")\n",
        "plt.xticks(rotation=90)\n",
        "plt.tight_layout()"
      ],
      "metadata": {
        "colab": {
          "base_uri": "https://localhost:8080/",
          "height": 448
        },
        "id": "cy3Cr14KJ5pa",
        "outputId": "b95c321a-e867-4863-b7f2-da863ff1db40"
      },
      "execution_count": 63,
      "outputs": [
        {
          "output_type": "display_data",
          "data": {
            "text/plain": [
              "<Figure size 1400x600 with 1 Axes>"
            ],
            "image/png": "[encoded data removed]"
          },
          "metadata": {}
        }
      ]
    },
    {
      "cell_type": "markdown",
      "source": [
        "**Висновок:**\n",
        "\n",
        "**Агент 117** значно випереджає всіх — **понад 400** успішних відповідей у межах 15 хвилин.\n",
        "\n",
        "Наступні ефективні агенти — **186, 172, 135, 176** — мають по 150–220 швидких відповідей.\n",
        "\n",
        "Далі кількість швидких обробок поступово знижується.\n",
        "\n",
        "Агентів з правого боку графіка — попри те, що увійшли в топ-30 — мають менше ніж 50 успішних обробок, отже їхній внесок значно нижчий.\n",
        "\n",
        "У команді є потужне ядро ефективних агентів, які демонструють стабільну відповідність SLA.\n",
        "Агент 117 — приклад високої швидкості реагування, можливо, має хорошу організацію черги або працює в менш завантажені години.\n",
        "Інші агенти теж мають потенціал, але або не мають умов для швидкої відповіді, або менш активні.\n",
        "\n",
        "**Рекомендації:**\n",
        "\n",
        "Вивчити підхід топ-агентів (особливо #117):\n",
        "\n",
        "Як їм вдається обробляти так багато звернень вчасно?\n",
        "\n",
        "Можна масштабувати їхні практики (розподіл, зміни, навички) на інші команди.\n",
        "\n",
        "Розподіляти більше запитів на агентів із найвищою швидкістю:\n",
        "\n",
        "Автоматичне пріоритезування або зміна черги допоможе підняти швидкість відповіді.\n",
        "\n",
        "Мотивувати менш активних агентів або агентів з нижчими показниками, щлб вони  покращювали результат:\n",
        "\n",
        "Наприклад через бонуси за швидку відповідь тощо.\n"
      ],
      "metadata": {
        "id": "VI1hCGhdt0e2"
      }
    },
    {
      "cell_type": "markdown",
      "source": [
        "## Загальний висновок та відповіді на ключові питання\n",
        "\n",
        "---\n",
        "\n",
        "### Загальний висновок:\n",
        "Служба підтримки **не відповідає** очікуванням менеджменту щодо швидкості відповіді:\n",
        "\n",
        "- Очікування: **відповідь ≤ 15 хв**, допустимий максимум — **45 хв**.\n",
        "- Реальність:\n",
        "  - **Retail** — середній час відповіді: ~ 608 хв (~10 год).\n",
        "  - **Wholesale** — ~ 3677 хв (~61 год).\n",
        "- **>78%** запитів обробляються із затримкою понад 45 хв.\n",
        "- Головна проблема — **затримка до взяття в роботу**, а не тривалість обробки (2–3 хв).\n",
        "\n",
        "---\n",
        "\n",
        "### Відповіді на питання\n",
        "\n",
        "#### 1. Наскільки служба підтримки відповідає очікуванням менеджменту? Як вона працює зараз?\n",
        "\n",
        "**Не відповідає.** Затримки в десятки годин, особливо в команді Wholesale. В періоди пікового навантаження ситуація ще гірша.\n",
        "\n",
        "---\n",
        "\n",
        "#### 2. На яких агентів варто звернути увагу задля підвищення якості обслуговування?\n",
        "\n",
        "- **Найефективніші агенти:** `117`, `186`, `172`, `135` — найбільше швидких відповідей ≤ 15 хв.\n",
        "- **Найповільніші агенти:** `125`, `165`, `188`, `112`, `123` — середня затримка 2–3 доби.\n",
        "- Варто провести аудит завантаження та підтримати слабші сторони.\n",
        "\n",
        "---\n",
        "\n",
        "#### 3. Чи варто збільшити команду підтримки і наскільки?\n",
        "\n",
        "**Так.** У пікові тижні обсяг заявок зростає в 2–4 рази.\n",
        "\n",
        "- Рекомендується **збільшити штат на 30–50% у сезон**.\n",
        "- Впровадити **гнучку модель**: постійна команда + тимчасові агенти.\n",
        "\n",
        "---\n",
        "\n",
        "#### 4. Як варто змінити графік служби підтримки?\n",
        "\n",
        "- Починати зміни з **6:00** (замість 7:00) — більшість заявок надходить раніше.\n",
        "- Впровадити **чергування з 22:00 до 6:00** — для нічного покриття.\n",
        "- Підсилити ранкові та обідні зміни (**8:00–13:00**).\n",
        "- Посилити команди у **четвер–суботу** — найнавантаженіші дні.\n",
        "\n",
        "---\n",
        "\n",
        "#### 5. Чи є вигода від об'єднання команд?\n",
        "\n",
        "**Так.**\n",
        "\n",
        "- Retail — ефективніший, Wholesale — перевантажений.\n",
        "- Об’єднання дозволить **краще балансувати ресурси**.\n",
        "- Альтернатива — **перехресне навчання** агентів для взаємопідтримки.\n",
        "\n",
        "---\n",
        "\n",
        "### Резюме:\n",
        "\n",
        "- Очікуванням менеджменту щодо швидкості відповіді не виконується, особливо в Wholesale.\n",
        "- Проблеми концентруються вночі, у пікові тижні, та на перевантажених агентів.\n",
        "- Рекомендується:\n",
        "  - Збільшити команду.\n",
        "  - Оптимізувати розклад.\n",
        "  - Перерозподілити запити.\n",
        "  - Вивчити практики ефективних агентів.\n"
      ],
      "metadata": {
        "id": "WSOA5zfTuvPA"
      }
    }
  ]
}